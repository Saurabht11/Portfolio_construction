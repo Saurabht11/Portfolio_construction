import numpy as np
import pandas as pd
from datetime import datetime, timedelta
import yfinance as yf
from transformers import BertTokenizer, BertForSequenceClassification
import torch
from scipy.stats import norm
import matplotlib.pyplot as plt

# Set random seed for reproducibility
np.random.seed(42)

# Constants
START_DATE = "2025-01-21"
END_DATE = "2025-02-28"
INITIAL_CAPITAL = 100000  # ₹100,000
TOP_N = 2  # Select top 10 stocks daily
TRADING_DAYS = 252  # Approx. trading days in a year

# Nifty 50 tickers (partial list)
NIFTY_50_TICKERS = [
    "RELIANCE.NS", "HDFCBANK.NS", "INFY.NS", "ICICIBANK.NS", "TCS.NS",
    "KOTAKBANK.NS", "HINDUNILVR.NS", "SBIN.NS", "BAJFINANCE.NS", "BHARTIARTL.NS",
    "ASIANPAINT.NS", "ITC.NS", "AXISBANK.NS", "LT.NS", "MARUTI.NS"
]

# Step 1: Fetch Stock Price Data from Yahoo Finance
def fetch_stock_data(tickers, start_date, end_date):
    stock_data = yf.download(tickers, start=start_date, end=end_date, progress=False)
    price_data = stock_data['Close']
    price_data = price_data.dropna(how='all')
    return price_data

# Step 2: Simulate News Sentiment Data
def simulate_news_sentiment(tickers, dates):
    sentiment_data = pd.DataFrame(index=dates, columns=tickers)
    for ticker in tickers:
        sentiment_data[ticker] = np.random.uniform(-1, 1, len(dates))
    return sentiment_data

# Step 3: Sentiment Analysis with BERT (unchanged)
def bert_sentiment_analysis(news_text):
    tokenizer = BertTokenizer.from_pretrained('yiyanghkust/finbert-tone')
    model = BertForSequenceClassification.from_pretrained('yiyanghkust/finbert-tone')
    
    inputs = tokenizer(news_text, return_tensors="pt", truncation=True, padding=True, max_length=512)
    with torch.no_grad():
        outputs = model(**inputs)
        logits = outputs.logits
        probs = torch.softmax(logits, dim=1).numpy()[0]
        sentiment_score = probs[2] - probs[0]
    return sentiment_score

def compute_daily_sentiment(tickers, dates, news_data=None):
    if news_data is None:
        return simulate_news_sentiment(tickers, dates)
    else:
        sentiment_data = pd.DataFrame(index=dates, columns=tickers)
        for date in dates:
            for ticker in tickers:
                sentiment_data.loc[date, ticker] = np.random.uniform(-1, 1)
        return sentiment_data

# Step 4: Sentiment-Based Trading Strategy with Holdings and Weights
def sentiment_trading_strategy(price_data, sentiment_data):
    portfolio_value = [INITIAL_CAPITAL]
    daily_returns = []
    holdings = []

    print("\nSentiment-Based Strategy - Daily Portfolio Values, Holdings, and Weights:")
    print(f"Date: {price_data.index[0].strftime('%Y-%m-%d')}, Portfolio Value: ₹{portfolio_value[-1]:.2f}, Holdings: Initial Capital")
    
    for t in range(len(price_data) - 1):
        sentiment_today = sentiment_data.iloc[t]
        top_stocks = sentiment_today.sort_values(ascending=False).head(TOP_N).index
        
        valid_stocks = [stock for stock in top_stocks if not pd.isna(price_data.loc[price_data.index[t], stock])]
        if len(valid_stocks) == 0:
            continue
        
        allocation = portfolio_value[-1] / len(valid_stocks)  # Equal allocation per stock
        shares = {stock: allocation / price_data.loc[price_data.index[t], stock] for stock in valid_stocks}
        
        portfolio_return = 0
        for stock in valid_stocks:
            price_t = price_data.loc[price_data.index[t], stock]
            price_t1 = price_data.loc[price_data.index[t + 1], stock]
            if pd.isna(price_t1):
                continue
            stock_return = (price_t1 - price_t) / price_t
            portfolio_return += stock_return / len(valid_stocks)
        
        new_value = portfolio_value[-1] * (1 + portfolio_return)
        portfolio_value.append(new_value)
        daily_returns.append(portfolio_return)
        holdings.append(valid_stocks)
        
        # Calculate and display weights (based on allocation at t)
        weights = {stock: allocation / portfolio_value[-1] for stock in valid_stocks}
        holdings_weights_str = ", ".join([f"{stock}: {weights[stock]*100:.2f}%" for stock in valid_stocks])
        print(f"Date: {price_data.index[t + 1].strftime('%Y-%m-%d')}, Portfolio Value: ₹{new_value:.2f}, Holdings: {holdings_weights_str}")
    
    portfolio_df = pd.DataFrame({
        'Date': price_data.index[:len(portfolio_value)],
        'Portfolio_Value': portfolio_value,
        'Daily_Return': [0] + daily_returns
    }).set_index('Date')
    return portfolio_df, holdings

# Step 5: Buy-and-Hold Strategy with Holdings and Weights
def buy_and_hold_strategy(price_data):
    avg_prices = price_data.mean(axis=1)
    initial_investment_per_stock = INITIAL_CAPITAL / len(price_data.columns)
    shares = {stock: initial_investment_per_stock / price_data[stock].iloc[0] for stock in price_data.columns}
    
    daily_returns = []
    portfolio_value = []
    
    print("\nBuy-and-Hold Strategy - Daily Portfolio Values, Holdings, and Weights:")
    for t, date in enumerate(price_data.index):
        # Calculate daily portfolio value
        total_value = sum(shares[stock] * price_data.loc[date, stock] for stock in shares if not pd.isna(price_data.loc[date, stock]))
        portfolio_value.append(total_value if total_value > 0 else portfolio_value[-1] if t > 0 else INITIAL_CAPITAL)
        
        # Calculate daily weights
        weights = {stock: (shares[stock] * price_data.loc[date, stock]) / portfolio_value[-1] 
                  if not pd.isna(price_data.loc[date, stock]) else 0 for stock in shares}
        holdings_weights_str = ", ".join([f"{stock}: {weights[stock]*100:.2f}%" for stock in shares if weights[stock] > 0])
        
        if t > 0:
            daily_return = (portfolio_value[-1] - portfolio_value[-2]) / portfolio_value[-2]
            daily_returns.append(daily_return)
        else:
            daily_returns.append(0)
        
        print(f"Date: {date.strftime('%Y-%m-%d')}, Portfolio Value: ₹{portfolio_value[-1]:.2f}, Holdings: {holdings_weights_str}")
    
    portfolio_df = pd.DataFrame({
        'Date': price_data.index,
        'Portfolio_Value': portfolio_value,
        'Daily_Return': daily_returns
    }).set_index('Date')
    return portfolio_df

# Step 6: Financial Metrics
def calculate_metrics(portfolio_df, risk_free_rate=0.06/252):
    total_return = (portfolio_df['Portfolio_Value'].iloc[-1] - INITIAL_CAPITAL) / INITIAL_CAPITAL
    daily_returns = portfolio_df['Daily_Return']
    
    annualized_return = ((1 + total_return) ** (252 / len(daily_returns))) - 1
    excess_returns = daily_returns - risk_free_rate
    sharpe_ratio = excess_returns.mean() / excess_returns.std() * np.sqrt(252) if excess_returns.std() != 0 else 0
    
    rolling_max = portfolio_df['Portfolio_Value'].cummax()
    drawdowns = (portfolio_df['Portfolio_Value'] - rolling_max) / rolling_max
    max_drawdown = drawdowns.min()
    
    volatility = daily_returns.std() * np.sqrt(252)
    
    return {
        'Total Return': total_return,
        'Annualized Return': annualized_return,
        'Sharpe Ratio': sharpe_ratio,
        'Max Drawdown': max_drawdown,
        'Volatility': volatility
    }

# Main Execution
def main():
    print("Fetching stock price data from Yahoo Finance...")
    price_data = fetch_stock_data(NIFTY_50_TICKERS, START_DATE, END_DATE)
    if price_data.empty:
        print("Error: No data fetched from Yahoo Finance")
        return
    
    print("Computing sentiment data...")
    sentiment_data = compute_daily_sentiment(NIFTY_50_TICKERS, price_data.index)
    
    print("Running sentiment-based strategy...")
    sentiment_portfolio, holdings = sentiment_trading_strategy(price_data, sentiment_data)
    
    print("Running buy-and-hold strategy...")
    bh_portfolio = buy_and_hold_strategy(price_data)
    
    sentiment_metrics = calculate_metrics(sentiment_portfolio)
    bh_metrics = calculate_metrics(bh_portfolio)
    
    print("\nSentiment-Based Strategy Metrics:")
    for key, value in sentiment_metrics.items():
        print(f"{key}: {value:.4f}")
    
    print("\nBuy-and-Hold Strategy Metrics:")
    for key, value in bh_metrics.items():
        print(f"{key}: {value:.4f}")
    
    plt.figure(figsize=(12, 6))
    plt.plot(sentiment_portfolio.index, sentiment_portfolio['Portfolio_Value'], label='Sentiment Strategy')
    plt.plot(bh_portfolio.index, bh_portfolio['Portfolio_Value'], label='Buy-and-Hold')
    plt.title('Portfolio Value Over Time')
    plt.xlabel('Date')
    plt.ylabel('Portfolio Value (₹)')
    plt.legend()
    plt.grid()
    plt.show()

if __name__ == "__main__":
    main()
