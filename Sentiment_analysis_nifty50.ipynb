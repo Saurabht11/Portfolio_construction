import numpy as np
import pandas as pd
from datetime import datetime, timedelta
import yfinance as yf  # For stock price data (replace with your preferred source)
from transformers import BertTokenizer, BertForSequenceClassification
import torch
from scipy.stats import norm
import matplotlib.pyplot as plt

# Set random seed for reproducibility
np.random.seed(42)

# Constants
START_DATE = "2024-02-21"
END_DATE = "2025-02-21"
INITIAL_CAPITAL = 100000  # ₹100,000
N_STOCKS = 50  # Nifty 50 constituents
TOP_N = 10  # Select top 10 stocks daily
TRADING_DAYS = 252  # Approx. trading days in a year

# Placeholder for Nifty 50 stock tickers (replace with actual NSE tickers)
NIFTY_50_TICKERS = [f"STOCK{i}.NS" for i in range(1, N_STOCKS + 1)]

# Step 1: Fetch or Simulate Stock Price Data
def fetch_stock_data(tickers, start_date, end_date):
    """
    Fetch daily closing prices for Nifty 50 stocks. Here, we simulate data.
    Replace with actual API call (e.g., yfinance).
    """
    dates = pd.date_range(start=start_date, end=end_date, freq='B')[:TRADING_DAYS]
    price_data = pd.DataFrame(index=dates)
    
    for ticker in tickers:
        # Simulate daily prices (replace with real data)
        initial_price = np.random.uniform(100, 1000)
        daily_returns = np.random.normal(0, 0.01, len(dates))  # 1% daily volatility
        prices = initial_price * np.exp(np.cumsum(daily_returns))
        price_data[ticker] = prices
    
    return price_data

# Step 2: Simulate News Sentiment Data
def simulate_news_sentiment(tickers, dates):
    """
    Simulate daily sentiment scores for each stock (range: -1 to 1).
    Replace with BERT-based sentiment analysis on real news data.
    """
    sentiment_data = pd.DataFrame(index=dates, columns=tickers)
    for ticker in tickers:
        sentiment_data[ticker] = np.random.uniform(-1, 1, len(dates))  # Random sentiment
    return sentiment_data

# Step 3: Sentiment Analysis with BERT (Placeholder)
def bert_sentiment_analysis(news_text):
    """
    Placeholder for BERT sentiment analysis. Returns a score between -1 and 1.
    Replace with actual BERT model inference.
    """
    tokenizer = BertTokenizer.from_pretrained('yiyanghkust/finbert-tone')
    model = BertForSequenceClassification.from_pretrained('yiyanghkust/finbert-tone')
    
    inputs = tokenizer(news_text, return_tensors="pt", truncation=True, padding=True, max_length=512)
    with torch.no_grad():
        outputs = model(**inputs)
        logits = outputs.logits
        probs = torch.softmax(logits, dim=1).numpy()[0]
        sentiment_score = probs[2] - probs[0]  # Positive - Negative (Neutral ignored)
    return sentiment_score

def compute_daily_sentiment(tickers, dates, news_data=None):
    """
    Compute sentiment scores for each stock daily. Uses simulated data here.
    """
    if news_data is None:
        return simulate_news_sentiment(tickers, dates)
    else:
        # Placeholder: Replace with actual news processing
        sentiment_data = pd.DataFrame(index=dates, columns=tickers)
        for date in dates:
            for ticker in tickers:
                # Simulate news sentiment (replace with real analysis)
                sentiment_data.loc[date, ticker] = np.random.uniform(-1, 1)
        return sentiment_data

# Step 4: Sentiment-Based Trading Strategy
def sentiment_trading_strategy(price_data, sentiment_data):
    """
    Backtest a strategy selecting top 10 stocks daily based on sentiment.
    """
    portfolio_value = [INITIAL_CAPITAL]
    daily_returns = []
    holdings = []

    for t in range(len(price_data) - 1):  # Day t to t+1
        # Get sentiment scores for day t
        sentiment_today = sentiment_data.iloc[t]
        
        # Rank stocks by sentiment and select top 10
        top_stocks = sentiment_today.sort_values(ascending=False).head(TOP_N).index
        
        # Allocate capital equally among top stocks
        allocation = portfolio_value[-1] / TOP_N
        shares = {stock: allocation / price_data.loc[price_data.index[t], stock] for stock in top_stocks}
        
        # Calculate return from t to t+1
        portfolio_return = 0
        for stock in top_stocks:
            price_t = price_data.loc[price_data.index[t], stock]
            price_t1 = price_data.loc[price_data.index[t + 1], stock]
            stock_return = (price_t1 - price_t) / price_t
            portfolio_return += stock_return / TOP_N
        
        # Update portfolio value
        new_value = portfolio_value[-1] * (1 + portfolio_return)
        portfolio_value.append(new_value)
        daily_returns.append(portfolio_return)
        holdings.append(top_stocks)
    
    portfolio_df = pd.DataFrame({
        'Date': price_data.index,
        'Portfolio_Value': portfolio_value,
        'Daily_Return': [0] + daily_returns
    }).set_index('Date')
    return portfolio_df, holdings

# Step 5: Buy-and-Hold Strategy (Nifty 50 Index Proxy)
def buy_and_hold_strategy(price_data):
    """
    Simulate buy-and-hold strategy using average of all stocks (proxy for Nifty 50).
    """
    avg_prices = price_data.mean(axis=1)
    initial_investment_per_stock = INITIAL_CAPITAL / N_STOCKS
    shares = initial_investment_per_stock / avg_prices.iloc[0]
    portfolio_value = avg_prices * shares * N_STOCKS
    
    daily_returns = portfolio_value.pct_change().fillna(0)
    portfolio_df = pd.DataFrame({
        'Date': price_data.index,
        'Portfolio_Value': portfolio_value,
        'Daily_Return': daily_returns
    }).set_index('Date')
    return portfolio_df

# Step 6: Financial Metrics
def calculate_metrics(portfolio_df, risk_free_rate=0.06/252):  # Daily risk-free rate (6% annual)
    """
    Calculate total return, Sharpe ratio, max drawdown, and volatility.
    """
    total_return = (portfolio_df['Portfolio_Value'].iloc[-1] - INITIAL_CAPITAL) / INITIAL_CAPITAL
    daily_returns = portfolio_df['Daily_Return']
    
    # Annualized Return
    annualized_return = ((1 + total_return) ** (252 / len(daily_returns))) - 1
    
    # Sharpe Ratio
    excess_returns = daily_returns - risk_free_rate
    sharpe_ratio = excess_returns.mean() / excess_returns.std() * np.sqrt(252)
    
    # Maximum Drawdown
    rolling_max = portfolio_df['Portfolio_Value'].cummax()
    drawdowns = (portfolio_df['Portfolio_Value'] - rolling_max) / rolling_max
    max_drawdown = drawdowns.min()
    
    # Volatility
    volatility = daily_returns.std() * np.sqrt(252)
    
    return {
        'Total Return': total_return,
        'Annualized Return': annualized_return,
        'Sharpe Ratio': sharpe_ratio,
        'Max Drawdown': max_drawdown,
        'Volatility': volatility
    }

# Main Execution
def main():
    # Step 1: Fetch stock price data
    print("Fetching stock price data...")
    price_data = fetch_stock_data(NIFTY_50_TICKERS, START_DATE, END_DATE)
    
    # Step 2: Compute sentiment data
    print("Computing sentiment data...")
    sentiment_data = compute_daily_sentiment(NIFTY_50_TICKERS, price_data.index)
    
    # Step 3: Run sentiment-based trading strategy
    print("Running sentiment-based strategy...")
    sentiment_portfolio, holdings = sentiment_trading_strategy(price_data, sentiment_data)
    
    # Step 4: Run buy-and-hold strategy
    print("Running buy-and-hold strategy...")
    bh_portfolio = buy_and_hold_strategy(price_data)
    
    # Step 5: Calculate metrics
    sentiment_metrics = calculate_metrics(sentiment_portfolio)
    bh_metrics = calculate_metrics(bh_portfolio)
    
    # Step 6: Display results
    print("\nSentiment-Based Strategy Metrics:")
    for key, value in sentiment_metrics.items():
        print(f"{key}: {value:.4f}")
    
    print("\nBuy-and-Hold Strategy Metrics:")
    for key, value in bh_metrics.items():
        print(f"{key}: {value:.4f}")
    
    # Step 7: Plot portfolio values
    plt.figure(figsize=(12, 6))
    plt.plot(sentiment_portfolio.index, sentiment_portfolio['Portfolio_Value'], label='Sentiment Strategy')
    plt.plot(bh_portfolio.index, bh_portfolio['Portfolio_Value'], label='Buy-and-Hold')
    plt.title('Portfolio Value Over Time')
    plt.xlabel('Date')
    plt.ylabel('Portfolio Value (₹)')
    plt.legend()
    plt.grid()
    plt.show()

if __name__ == "__main__":
    main()
